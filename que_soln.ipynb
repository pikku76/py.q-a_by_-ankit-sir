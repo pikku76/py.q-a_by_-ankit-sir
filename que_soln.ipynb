{
 "cells": [
  {
   "cell_type": "code",
   "execution_count": 2,
   "metadata": {},
   "outputs": [
    {
     "name": "stdout",
     "output_type": "stream",
     "text": [
      "[17, 19, 20, 17, 24, 22, 16]\n"
     ]
    }
   ],
   "source": [
    "# 1.Write a Python program to create a lambda function that adds 15 \n",
    "# to a given number passed in as an argument, also create a lambda \n",
    "# function that multiplies argument x with argument y and \n",
    "# print the result.\n",
    "\n",
    "p=[2,4,5,2,9,7,1]\n",
    "n=list(map(lambda x:x+15,p))\n",
    "print(n)"
   ]
  },
  {
   "cell_type": "code",
   "execution_count": 4,
   "metadata": {},
   "outputs": [
    {
     "data": {
      "text/plain": [
       "5040"
      ]
     },
     "execution_count": 4,
     "metadata": {},
     "output_type": "execute_result"
    }
   ],
   "source": [
    "from functools import reduce\n",
    "\n",
    "p=[2,4,5,2,9,7,1]\n",
    "reduce(lambda x,y:x*y,p)\n"
   ]
  },
  {
   "cell_type": "code",
   "execution_count": 17,
   "metadata": {},
   "outputs": [
    {
     "name": "stdout",
     "output_type": "stream",
     "text": [
      "double is: 30\n",
      "double is: 45\n",
      "double is: 60\n",
      "double is: 75\n"
     ]
    }
   ],
   "source": [
    "# 2.Write a Python program to create a function that takes one argument, \n",
    "# and that argument will be multiplied with an unknown given number. \n",
    "# Go to the editor\n",
    "# Sample Output:\n",
    "# Double the number of 15 = 30\n",
    "# Triple the number of 15 = 45\n",
    "# Quadruple the number of 15 = 60\n",
    "# Quintuple the number 15 = 75\n",
    "\n",
    "p=[2,3,4,5]\n",
    "a=list(map(lambda x:x*15,p))\n",
    "for x in a:\n",
    "    print(\"double is:\",x)\n",
    "    \n",
    "\n",
    "    \n",
    "\n",
    "\n",
    "\n"
   ]
  },
  {
   "cell_type": "code",
   "execution_count": 21,
   "metadata": {},
   "outputs": [
    {
     "name": "stdout",
     "output_type": "stream",
     "text": [
      "These are even numbers:: [2, 4, 6, 8, 10]\n"
     ]
    }
   ],
   "source": [
    "# 3. Write a Python program to filter a list of integers using Lambda.\n",
    "#  Go to the editor\n",
    "# Original list of integers:\n",
    "# [1, 2, 3, 4, 5, 6, 7, 8, 9, 10]\n",
    "# Even numbers from the said list:\n",
    "# [2, 4, 6, 8, 10]\n",
    "# Odd numbers from the said list:\n",
    "# [1, 3, 5, 7, 9]\n",
    "\n",
    "p=[1, 2, 3, 4, 5, 6, 7, 8, 9, 10]\n",
    "v=list(filter(lambda x :True if x%2==0 else False,p ))\n",
    "print(\"These are even numbers::\",v)"
   ]
  },
  {
   "cell_type": "code",
   "execution_count": 23,
   "metadata": {},
   "outputs": [
    {
     "name": "stdout",
     "output_type": "stream",
     "text": [
      "These are odd numbers:: [1, 3, 5, 7, 9]\n"
     ]
    }
   ],
   "source": [
    "p=[1, 2, 3, 4, 5, 6, 7, 8, 9, 10]\n",
    "v=list(filter(lambda x:True if x%2 != 0 else False,p))\n",
    "print(\"These are odd numbers::\",v)"
   ]
  },
  {
   "cell_type": "code",
   "execution_count": null,
   "metadata": {},
   "outputs": [],
   "source": [
    "# Write a Python program to check whether a given string is number \n",
    "# or not using Lambda.\n",
    "a=\"23456\"\n"
   ]
  },
  {
   "cell_type": "code",
   "execution_count": 28,
   "metadata": {},
   "outputs": [
    {
     "name": "stdout",
     "output_type": "stream",
     "text": [
      "[2, 8, 10]\n",
      "3\n"
     ]
    }
   ],
   "source": [
    "# 5.Write a Python program to count the even, odd numbers in a given\n",
    "#  array of integers using Lambda. Go to the editor\n",
    "# Original arrays:\n",
    "# [1, 2, 3, 5, 7, 8, 9, 10]\n",
    "\n",
    "p=[1, 2, 3, 5, 7, 8, 9, 10]\n",
    "v=list(filter(lambda x: True if x%2==0 else False,p))\n",
    "print (v)\n",
    "print(len(v))\n"
   ]
  },
  {
   "cell_type": "code",
   "execution_count": 31,
   "metadata": {},
   "outputs": [
    {
     "data": {
      "text/plain": [
       "[5, 7, 9]"
      ]
     },
     "execution_count": 31,
     "metadata": {},
     "output_type": "execute_result"
    }
   ],
   "source": [
    "# 6.Write a Python program to add two given lists using map and lambda. \n",
    "# Original list:\n",
    "# [1, 2, 3]\n",
    "# [4, 5, 6]\n",
    "# Result: after adding two list\n",
    "# [5, 7, 9]\n",
    " \n",
    "p= [1, 2, 3]\n",
    "k=[4, 5, 6]\n",
    "c=list(map(lambda x,y:x+y,p,k))\n",
    "c"
   ]
  },
  {
   "cell_type": "code",
   "execution_count": null,
   "metadata": {},
   "outputs": [],
   "source": [
    "# 7.Write a Python program to find numbers divisible by nineteen or \n",
    "# thirteen from a list of numbers using Lambda.\n",
    "# Orginal list:\n",
    "# [19, 65, 57, 39, 152, 639, 121, 44, 90, 190]\n",
    "# Numbers of the above list divisible by nineteen or thirteen:\n",
    "# [19, 65, 57, 39, 152, 190]\n",
    "\n",
    "# 8.Write a Python program that multiply each number of given list \n",
    "# with a given number using lambda function. Print the result.\n",
    "# Original list: [2, 4, 6, 9, 11]\n",
    "# Given number: 2\n"
   ]
  }
 ],
 "metadata": {
  "interpreter": {
   "hash": "c19fa61d258bb2b35aae2ada233c33e2817c1ce895aa48acba720c6bf7cbe3cb"
  },
  "kernelspec": {
   "display_name": "Python 3.10.1 64-bit",
   "language": "python",
   "name": "python3"
  },
  "language_info": {
   "codemirror_mode": {
    "name": "ipython",
    "version": 3
   },
   "file_extension": ".py",
   "mimetype": "text/x-python",
   "name": "python",
   "nbconvert_exporter": "python",
   "pygments_lexer": "ipython3",
   "version": "3.10.1"
  },
  "orig_nbformat": 4
 },
 "nbformat": 4,
 "nbformat_minor": 2
}
